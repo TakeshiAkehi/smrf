{
 "cells": [
  {
   "cell_type": "code",
   "execution_count": 1,
   "metadata": {},
   "outputs": [],
   "source": [
    "import laspy\n",
    "import smrf\n",
    "import numpy as np\n",
    "import pandas as pd\n",
    "import rasterio"
   ]
  },
  {
   "cell_type": "markdown",
   "metadata": {},
   "source": [
    "Read in some data sourced from a YellowScan, courtesy of the StREAM Lab at Virginia Tech.\n",
    "\n",
    "This record is approximately 54 million points."
   ]
  },
  {
   "cell_type": "code",
   "execution_count": 2,
   "metadata": {},
   "outputs": [],
   "source": [
    "fn = '../../smrf_data/StREAM_20170405.laz'\n",
    "las = laspy.read(fn)"
   ]
  },
  {
   "cell_type": "markdown",
   "metadata": {},
   "source": [
    "Apply SRMF to remove the vegetation.  Although the point density of scan is quite high (approximately 430 points per square meter), it isn't necessary that SMRF's cellsize corresponds to this value.  A 1 meter grid will often work just as well, and run significantly faster.  A DTM can be generated from the classified output in the next step at whatever resolution is appropriate, and need not be the same as is used here.\n",
    "\n",
    "Because this area has very few large buildings and is dominated by relatively small vegetation, a very small window can be used.  Even large trees don't require a radius setting here that's very large, because the lidar will typically penetrate through the canopy, and the minimum return for that grid cell will often still be ground.\n",
    "\n",
    "AGH is above ground height, which can be used to classify vegetation.  We'll use some easy breakpoints to define low, medium, and high vegetation for this, but there are likely much more sophisticated ways to do this."
   ]
  },
  {
   "cell_type": "code",
   "execution_count": 3,
   "metadata": {},
   "outputs": [],
   "source": [
    "windows = 2 # in pixels\n",
    "slope_threshold = .15\n",
    "elevation_threshold = .1\n",
    "elevation_scaler = 0\n",
    "cellsize = 1\n",
    "\n",
    "\n",
    "Zsmrf,Tsmrf,obj_cells,obj_array,AGH = smrf.smrf(*np.array((las.x,las.y,las.z)),cellsize,windows,\n",
    "                                    slope_threshold,elevation_threshold,\n",
    "                                    elevation_scaler,return_AGH=True)"
   ]
  },
  {
   "cell_type": "code",
   "execution_count": 4,
   "metadata": {},
   "outputs": [],
   "source": [
    "new_file = laspy.create(point_format=las.header.point_format, file_version=las.header.version)\n",
    "new_file.points = las.points\n",
    "new_file.classification[obj_array==0] = 2\n",
    "new_file.classification[obj_array==1] = 4  # Assume everything else is medium vegetation\n",
    "new_file.classification[AGH<1] = 3         # Unless under a meter, then it's low vegetation\n",
    "new_file.classification[AGH>3] = 5         # Or higher than 3 meters, then it's high vegetation\n",
    "new_file.write(fn[:-4] + '.classified.laz')"
   ]
  },
  {
   "cell_type": "code",
   "execution_count": 9,
   "metadata": {},
   "outputs": [
    {
     "data": {
      "text/plain": [
       "array([0.08478146, 0.01578153, 0.11212136, ..., 0.05902864, 0.07928742,\n",
       "       0.04823845])"
      ]
     },
     "execution_count": 9,
     "metadata": {},
     "output_type": "execute_result"
    }
   ],
   "source": [
    "np.array(las.z) - AGH"
   ]
  },
  {
   "cell_type": "code",
   "execution_count": 8,
   "metadata": {},
   "outputs": [
    {
     "data": {
      "text/plain": [
       "array([604.58221854, 604.47521847, 604.58587864, ..., 607.47197136,\n",
       "       607.34571258, 607.43476155])"
      ]
     },
     "execution_count": 8,
     "metadata": {},
     "output_type": "execute_result"
    }
   ],
   "source": [
    "AGH"
   ]
  },
  {
   "cell_type": "code",
   "execution_count": null,
   "metadata": {},
   "outputs": [],
   "source": []
  }
 ],
 "metadata": {
  "kernelspec": {
   "display_name": "Python 3 (ipykernel)",
   "language": "python",
   "name": "python3"
  },
  "language_info": {
   "codemirror_mode": {
    "name": "ipython",
    "version": 3
   },
   "file_extension": ".py",
   "mimetype": "text/x-python",
   "name": "python",
   "nbconvert_exporter": "python",
   "pygments_lexer": "ipython3",
   "version": "3.9.0"
  }
 },
 "nbformat": 4,
 "nbformat_minor": 4
}
