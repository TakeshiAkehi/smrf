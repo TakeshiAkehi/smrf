{
 "cells": [
  {
   "cell_type": "code",
   "execution_count": 1,
   "metadata": {},
   "outputs": [],
   "source": [
    "import pdal\n",
    "import smrf\n",
    "\n",
    "import numpy as np\n",
    "import pandas as pd\n",
    "import rasterio"
   ]
  },
  {
   "cell_type": "markdown",
   "metadata": {},
   "source": [
    "Read in some data sourced from a YellowScan, courtesy of the StREAM Lab at Virginia Tech.\n",
    "\n",
    "This record is approximately 54 million points."
   ]
  },
  {
   "cell_type": "code",
   "execution_count": 2,
   "metadata": {},
   "outputs": [],
   "source": [
    "fn_in = 'data/StREAM_20170405.laz'\n",
    "\n",
    "# Commands can be chaned together with the pipe:\n",
    "pipeline = pdal.Reader(fn_in).pipeline()\n",
    "pipeline.execute()\n",
    "\n",
    "arr = pipeline.arrays[0]"
   ]
  },
  {
   "cell_type": "markdown",
   "metadata": {},
   "source": [
    "Apply SRMF to remove the vegetation.  Although the point density of scan is quite high (approximately 430 points per square meter), it isn't necessary that SMRF's cellsize corresponds to this value.  A 1 meter grid will often work just as well, and run significantly faster.  A DTM can be generated from the classified output in the next step at whatever resolution is appropriate, and need not be the same as is used here.\n",
    "\n",
    "Because this area has very few large buildings and is dominated by relatively small vegetation, a very small window can be used.  Even large trees don't require a radius setting here that's very large, because the lidar will typically penetrate through the canopy, and the minimum return for that grid cell will often still be ground.\n",
    "\n",
    "AGH is above ground height, which can be used to classify vegetation.  We'll use some easy breakpoints to define low, medium, and high vegetation for this, but there are likely much more sophisticated ways to do this."
   ]
  },
  {
   "cell_type": "code",
   "execution_count": 3,
   "metadata": {},
   "outputs": [],
   "source": [
    "Z,T,obj_cells,obj_array,extras = smrf.smrf(arr['X'],arr['Y'],arr['Z'],cellsize=1,windows=2,slope_threshold=.15,\n",
    "                                            elevation_threshold=.1,elevation_scaler=0,return_extras=True)\n",
    "\n",
    "AGH = extras['above_ground_height']"
   ]
  },
  {
   "cell_type": "code",
   "execution_count": 4,
   "metadata": {},
   "outputs": [],
   "source": [
    "with rasterio.open('out/StREAM_20170405.dtm.tif', 'w', driver='GTiff', \n",
    "                             height=Z.shape[0], width=Z.shape[1], \n",
    "                             count=1, dtype=np.float32, transform=T) as src:\n",
    "    src.write(Z.astype(np.float32), 1)"
   ]
  },
  {
   "cell_type": "code",
   "execution_count": 5,
   "metadata": {},
   "outputs": [
    {
     "data": {
      "text/plain": [
       "54355116"
      ]
     },
     "execution_count": 5,
     "metadata": {},
     "output_type": "execute_result"
    }
   ],
   "source": [
    "new_class = 4*np.ones_like(arr['Classification'])  # Assume everything else is medium vegetation\n",
    "new_class[~obj_array] = 2                          # Ground\n",
    "new_class[(obj_array) & (AGH<1)] = 3               # Unless under a meter, then it's low vegetation\n",
    "new_class[(obj_array) & (AGH>3)] = 5               # Or higher than 3 meters, then it's high vegetation\n",
    "\n",
    "\n",
    "arr['Classification'] = new_class\n",
    "\n",
    "pipeline2 = pdal.Writer.las(\n",
    "    filename=\"out/StREAM_20170405.classified.laz\",\n",
    "    forward=\"all\",\n",
    ").pipeline(arr)\n",
    "\n",
    "pipeline2.execute()"
   ]
  }
 ],
 "metadata": {
  "kernelspec": {
   "display_name": "Python 3 (ipykernel)",
   "language": "python",
   "name": "python3"
  },
  "language_info": {
   "codemirror_mode": {
    "name": "ipython",
    "version": 3
   },
   "file_extension": ".py",
   "mimetype": "text/x-python",
   "name": "python",
   "nbconvert_exporter": "python",
   "pygments_lexer": "ipython3",
   "version": "3.9.0"
  }
 },
 "nbformat": 4,
 "nbformat_minor": 4
}
