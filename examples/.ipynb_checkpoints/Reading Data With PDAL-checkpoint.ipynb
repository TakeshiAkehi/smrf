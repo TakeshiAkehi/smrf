{
 "cells": [
  {
   "cell_type": "code",
   "execution_count": 20,
   "id": "9efc3709",
   "metadata": {},
   "outputs": [
    {
     "name": "stderr",
     "output_type": "stream",
     "text": [
      "C:\\Users\\tpingel\\Anaconda3\\envs\\lidarpdal\\lib\\site-packages\\smrf\\smrf.py:14: FutureWarning: Importing from skimage.morphology.grey is deprecated. Please import from skimage.morphology instead.\n",
      "  from skimage.morphology.grey import opening\n"
     ]
    }
   ],
   "source": [
    "import pdal\n",
    "import smrf"
   ]
  },
  {
   "cell_type": "markdown",
   "id": "824943af",
   "metadata": {},
   "source": [
    "# Using a JSON file"
   ]
  },
  {
   "cell_type": "code",
   "execution_count": null,
   "id": "11486f2e",
   "metadata": {},
   "outputs": [],
   "source": [
    "# A simple example from https://github.com/PDAL/python"
   ]
  },
  {
   "cell_type": "code",
   "execution_count": 3,
   "id": "7f2fb2f4",
   "metadata": {},
   "outputs": [],
   "source": [
    "json = \"\"\"\n",
    "[\n",
    "    \"data/DK22_partial.las\",\n",
    "    {\n",
    "        \"type\": \"filters.sort\",\n",
    "        \"dimension\": \"X\"\n",
    "    }\n",
    "]\n",
    "\"\"\"\n",
    "\n",
    "pipeline = pdal.Pipeline(json)\n",
    "count = pipeline.execute()\n",
    "arrays = pipeline.arrays\n",
    "metadata = pipeline.metadata\n",
    "log = pipeline.log"
   ]
  },
  {
   "cell_type": "code",
   "execution_count": 4,
   "id": "57f5cc1f",
   "metadata": {},
   "outputs": [
    {
     "data": {
      "text/plain": [
       "[array([(864603.79998779, 1917280.08994141, 868.37997314, 13, 2, 2, 0, 0, 12, 0., 0, 53, 397421.33238853, 0, 0, 0),\n",
       "        (864603.82998779, 1917280.08994141, 868.46997314, 13, 1, 2, 0, 0, 12, 0., 0, 53, 397421.33238853, 0, 0, 0),\n",
       "        (864603.85998779, 1917240.37994141, 847.42997314,  6, 1, 2, 0, 0, 12, 0., 0, 53, 397421.13243736, 0, 0, 0),\n",
       "        ...,\n",
       "        (868172.52998779, 1918927.71994141, 844.51997314, 44, 2, 2, 0, 0, 12, 0., 0, 22, 174092.03636802, 0, 0, 0),\n",
       "        (868172.52998779, 1917653.29994141, 849.78997314, 37, 2, 2, 0, 0, 12, 0., 0, 22, 174084.67699302, 0, 0, 0),\n",
       "        (868172.52998779, 1917514.04994141, 850.90997314, 14, 2, 2, 0, 0, 12, 0., 0, 22, 174083.80199302, 0, 0, 0)],\n",
       "       dtype=[('X', '<f8'), ('Y', '<f8'), ('Z', '<f8'), ('Intensity', '<u2'), ('ReturnNumber', 'u1'), ('NumberOfReturns', 'u1'), ('ScanDirectionFlag', 'u1'), ('EdgeOfFlightLine', 'u1'), ('Classification', 'u1'), ('ScanAngleRank', '<f4'), ('UserData', 'u1'), ('PointSourceId', '<u2'), ('GpsTime', '<f8'), ('Red', '<u2'), ('Green', '<u2'), ('Blue', '<u2')])]"
      ]
     },
     "execution_count": 4,
     "metadata": {},
     "output_type": "execute_result"
    }
   ],
   "source": [
    "arrays"
   ]
  },
  {
   "cell_type": "code",
   "execution_count": 19,
   "id": "e4cd0db8",
   "metadata": {},
   "outputs": [
    {
     "data": {
      "text/plain": [
       "array([864603.79998779, 864603.82998779, 864603.85998779, ...,\n",
       "       868172.52998779, 868172.52998779, 868172.52998779])"
      ]
     },
     "execution_count": 19,
     "metadata": {},
     "output_type": "execute_result"
    }
   ],
   "source": [
    "arrays[0]['X']"
   ]
  },
  {
   "cell_type": "code",
   "execution_count": 8,
   "id": "c5fc4202",
   "metadata": {},
   "outputs": [
    {
     "data": {
      "text/plain": [
       "(864603.79998779, 1917280.08994141, 868.37997314, 13, 2, 2, 0, 0, 12, 0., 0, 53, 397421.33238853, 0, 0, 0)"
      ]
     },
     "execution_count": 8,
     "metadata": {},
     "output_type": "execute_result"
    }
   ],
   "source": [
    "arrays[0][0]"
   ]
  },
  {
   "cell_type": "code",
   "execution_count": 14,
   "id": "336e9e02",
   "metadata": {},
   "outputs": [
    {
     "data": {
      "text/plain": [
       "[array([(864603.79998779, 1917280.08994141, 868.37997314, 13, 2, 2, 0, 0, 12, 0., 0, 53, 397421.33238853, 0, 0, 0),\n",
       "        (864603.82998779, 1917280.08994141, 868.46997314, 13, 1, 2, 0, 0, 12, 0., 0, 53, 397421.33238853, 0, 0, 0),\n",
       "        (864603.85998779, 1917240.37994141, 847.42997314,  6, 1, 2, 0, 0, 12, 0., 0, 53, 397421.13243736, 0, 0, 0),\n",
       "        ...,\n",
       "        (868172.52998779, 1918927.71994141, 844.51997314, 44, 2, 2, 0, 0, 12, 0., 0, 22, 174092.03636802, 0, 0, 0),\n",
       "        (868172.52998779, 1917653.29994141, 849.78997314, 37, 2, 2, 0, 0, 12, 0., 0, 22, 174084.67699302, 0, 0, 0),\n",
       "        (868172.52998779, 1917514.04994141, 850.90997314, 14, 2, 2, 0, 0, 12, 0., 0, 22, 174083.80199302, 0, 0, 0)],\n",
       "       dtype=[('X', '<f8'), ('Y', '<f8'), ('Z', '<f8'), ('Intensity', '<u2'), ('ReturnNumber', 'u1'), ('NumberOfReturns', 'u1'), ('ScanDirectionFlag', 'u1'), ('EdgeOfFlightLine', 'u1'), ('Classification', 'u1'), ('ScanAngleRank', '<f4'), ('UserData', 'u1'), ('PointSourceId', '<u2'), ('GpsTime', '<f8'), ('Red', '<u2'), ('Green', '<u2'), ('Blue', '<u2')])]"
      ]
     },
     "execution_count": 14,
     "metadata": {},
     "output_type": "execute_result"
    }
   ],
   "source": [
    "arrays"
   ]
  },
  {
   "cell_type": "code",
   "execution_count": 11,
   "id": "7f04b294",
   "metadata": {},
   "outputs": [
    {
     "data": {
      "text/plain": [
       "{'metadata': {'filters.sort': {},\n",
       "  'readers.las': {'comp_spatialreference': '',\n",
       "   'compressed': False,\n",
       "   'copc': False,\n",
       "   'count': 1996322,\n",
       "   'creation_doy': 336,\n",
       "   'creation_year': 2017,\n",
       "   'dataformat_id': 3,\n",
       "   'dataoffset': 227,\n",
       "   'filesource_id': 0,\n",
       "   'global_encoding': 0,\n",
       "   'global_encoding_base64': 'AAA=',\n",
       "   'header_size': 227,\n",
       "   'major_version': 1,\n",
       "   'maxx': 868172.53,\n",
       "   'maxy': 1919703.2,\n",
       "   'maxz': 1124.439941,\n",
       "   'minor_version': 2,\n",
       "   'minx': 864603.8,\n",
       "   'miny': 1917226.69,\n",
       "   'minz': 813.9099731,\n",
       "   'offset_x': 864603.799987793,\n",
       "   'offset_y': 1917226.68994141,\n",
       "   'offset_z': 813.909973144531,\n",
       "   'point_length': 34,\n",
       "   'project_id': '00000000-0000-0000-0000-000000000000',\n",
       "   'scale_x': 0.01,\n",
       "   'scale_y': 0.01,\n",
       "   'scale_z': 0.01,\n",
       "   'software_id': 'libLAS 1.8.0',\n",
       "   'spatialreference': '',\n",
       "   'srs': {'compoundwkt': '',\n",
       "    'horizontal': '',\n",
       "    'isgeocentric': False,\n",
       "    'isgeographic': False,\n",
       "    'prettycompoundwkt': '',\n",
       "    'prettywkt': '',\n",
       "    'proj4': '',\n",
       "    'units': {'horizontal': 'unknown', 'vertical': ''},\n",
       "    'vertical': '',\n",
       "    'wkt': ''},\n",
       "   'system_id': 'libLAS'}}}"
      ]
     },
     "execution_count": 11,
     "metadata": {},
     "output_type": "execute_result"
    }
   ],
   "source": [
    "metadata"
   ]
  },
  {
   "cell_type": "markdown",
   "id": "be8936a9",
   "metadata": {},
   "source": [
    "# A piped example"
   ]
  },
  {
   "cell_type": "code",
   "execution_count": 17,
   "id": "ba393a2c",
   "metadata": {},
   "outputs": [],
   "source": [
    "fn_in = 'data/DK22_partial.las'\n",
    "fn_out = 'ground.las'\n",
    "\n",
    "# Commands can be chaned together with the pipe:\n",
    "pipeline = pdal.Reader(fn_in) | pdal.Filter.smrf(slope=0.2,threshold=0.45,window=5,cell=5)\n",
    "# Or added afterward like so:\n",
    "pipeline |= pdal.Writer(filename=fn_out)\n",
    "count = pipeline.execute()"
   ]
  },
  {
   "cell_type": "markdown",
   "id": "097e9fe4",
   "metadata": {},
   "source": [
    "# Running Python SMRF"
   ]
  },
  {
   "cell_type": "code",
   "execution_count": 26,
   "id": "d407695c",
   "metadata": {},
   "outputs": [],
   "source": [
    "fn_in = 'data/DK22_partial.las'\n",
    "fn_out = 'ground.las'\n",
    "\n",
    "# Commands can be chaned together with the pipe:\n",
    "pipeline = pdal.Reader(fn_in).pipeline()\n",
    "pipeline.execute()\n",
    "\n",
    "arr = pipeline.arrays[0]"
   ]
  },
  {
   "cell_type": "code",
   "execution_count": null,
   "id": "4be72bd8",
   "metadata": {},
   "outputs": [],
   "source": [
    "Zsmrf,Tsmrf,obj_cells,obj_array = smrf.smrf(arr['X'],arr['Y'],arr['Z'],cellsize=5,windows=3,slope_threshold=.15,low_filter_slope=1,\n",
    "                                           low_outlier_fill=False))"
   ]
  },
  {
   "cell_type": "code",
   "execution_count": null,
   "id": "2e92f42f",
   "metadata": {},
   "outputs": [],
   "source": []
  }
 ],
 "metadata": {
  "kernelspec": {
   "display_name": "Python 3 (ipykernel)",
   "language": "python",
   "name": "python3"
  },
  "language_info": {
   "codemirror_mode": {
    "name": "ipython",
    "version": 3
   },
   "file_extension": ".py",
   "mimetype": "text/x-python",
   "name": "python",
   "nbconvert_exporter": "python",
   "pygments_lexer": "ipython3",
   "version": "3.9.12"
  }
 },
 "nbformat": 4,
 "nbformat_minor": 5
}
